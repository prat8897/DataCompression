{
 "cells": [
  {
   "cell_type": "code",
   "execution_count": 3,
   "metadata": {},
   "outputs": [],
   "source": [
    "import numpy as np, matplotlib.pyplot as plt\n",
    "import random, operator"
   ]
  },
  {
   "cell_type": "code",
   "execution_count": 4,
   "metadata": {},
   "outputs": [],
   "source": [
    "#Creates a binary matrix with size 'size' and probability of a 1 occuring as 'probability'\n",
    "def create_matrix(size, probability): \n",
    "    return np.random.choice(a=[True, False], size=(size, size), p=[probability, 1 - probability])"
   ]
  },
  {
   "cell_type": "code",
   "execution_count": 6,
   "metadata": {},
   "outputs": [
    {
     "name": "stdout",
     "output_type": "stream",
     "text": [
      "[[ True False False  True  True False False False  True False]\n",
      " [ True False False  True False False False  True False  True]\n",
      " [False False  True  True False False False False False False]\n",
      " [ True  True  True False  True  True False False False False]\n",
      " [False  True False False  True False False False  True  True]\n",
      " [False  True False  True  True  True  True False  True  True]\n",
      " [ True False  True False False False False  True False  True]\n",
      " [False False False  True  True  True False  True  True  True]\n",
      " [ True  True False False  True  True  True  True  True  True]\n",
      " [False False  True  True False  True  True  True  True False]]\n"
     ]
    }
   ],
   "source": [
    "print(create_matrix(10, 0.5))"
   ]
  },
  {
   "cell_type": "code",
   "execution_count": null,
   "metadata": {},
   "outputs": [],
   "source": [
    "def fitness(matrix, rule_list, supergeneration):\n",
    "    \n",
    "    if supergeneration%2:\n",
    "        matrix3 = margolus1(matrix, rule_list)\n",
    "        return count_alive1(matrix3)\n",
    "    else:\n",
    "        matrix3 = margolus2(matrix, rule_list)\n",
    "        return count_alive2(matrix3)\n",
    "    #return len(encode(''.join([str(i) for n in matrix3 for i in n])))\n",
    "\n",
    "def margolus1(matrix, rule_list):\n",
    "    matrix_size = len(matrix)\n",
    "    matrix2 = matrix.copy()\n",
    "    #print(matrix2)\n",
    "\n",
    "    for x in range(0,matrix_size,2):\n",
    "        for y in range(0,matrix_size,2):\n",
    "\n",
    "            #Create a pointer for each 2x2 cell in the matrix. Nested array eg: [[0, 1], [1, 1]]\n",
    "            square = matrix2[x:x+2,y:y+2]\n",
    "\n",
    "            #Find the current configuration of the cell. an int ranging from 0 to 15. eg: 14\n",
    "            config = int(''.join([str(j) for i in square for j in i][::-1]), 2)\n",
    "\n",
    "            #Find config of the next gen of cell according to given RCA rule. an array  eg: [0, 1, 0, 1]\n",
    "            values = [int(k) for k in str(bin(rule_list[config]))[:1:-1].ljust(4, '0')]\n",
    "\n",
    "            #Set the new config for the cell eg: [[0, 1], [0, 1]] \n",
    "            square[0,0], square[0,1] = values[0], values[1]\n",
    "            square[1,0], square[1,1] = values[2], values[3]\n",
    "\n",
    "    return matrix2\n",
    "    \n",
    "\n",
    "def margolus2(matrix, rule_list):\n",
    "    matrix2 = margolus_shift1(matrix)\n",
    "    matrix2 = margolus1(matrix2, rule_list)\n",
    "    return margolus_shift2(matrix2)\n",
    "\n",
    "def margolus_shift1(matrix):\n",
    "    shiftedup =  np.roll(matrix, -1, axis=0)\n",
    "    shiftedleft = np.roll(shiftedup, -1, axis=1)\n",
    "    return shiftedleft\n",
    "\n",
    "def margolus_shift2(matrix):\n",
    "    shiftedup =  np.roll(matrix, 1, axis=0)\n",
    "    shiftedleft = np.roll(shiftedup, 1, axis=1)\n",
    "    return shiftedleft\n",
    "\n",
    "def count_alive1(matrix):\n",
    "    \"\"\"Counts number of cells that will be alive in the next generation of cellular automata\"\"\"\n",
    "    matrix3 = matrix.copy()\n",
    "    matrix3 = margolus_shift1(matrix3)\n",
    "    matrix_size = len(matrix3)\n",
    "    \n",
    "    counter = 0\n",
    "    for x in range(0,matrix_size,2):\n",
    "        for y in range(0,matrix_size,2): #Starts the 2X2 box at 0,0 and then moves onto the next 2X2 box\n",
    "            square = matrix3[x:x+2,y:y+2] #Creates a pointer to the 2X2 part of the dis\n",
    "            #print(\"square = \", square)\n",
    "            if 1 in square:\n",
    "                counter += 1\n",
    "\n",
    "    return counter\n",
    "\n",
    "def count_alive2(matrix):\n",
    "    \"\"\"Counts number of cells that will be alive in the next generation of cellular automata\"\"\"\n",
    "    matrix3 = matrix.copy()\n",
    "    #matrix3 = margolus_shift1(matrix3)\n",
    "    matrix_size = len(matrix3)\n",
    "    \n",
    "    counter = 0\n",
    "    for x in range(0,matrix_size,2):\n",
    "        for y in range(0,matrix_size,2): #Starts the 2X2 box at 0,0 and then moves onto the next 2X2 box\n",
    "            square = matrix3[x:x+2,y:y+2] #Creates a pointer to the 2X2 part of the dis\n",
    "            #print(\"square = \", square)\n",
    "            if 1 in square:\n",
    "                counter += 1\n",
    "\n",
    "    return counter"
   ]
  }
 ],
 "metadata": {
  "kernelspec": {
   "display_name": "Python 3",
   "language": "python",
   "name": "python3"
  },
  "language_info": {
   "codemirror_mode": {
    "name": "ipython",
    "version": 2
   },
   "file_extension": ".py",
   "mimetype": "text/x-python",
   "name": "python",
   "nbconvert_exporter": "python",
   "pygments_lexer": "ipython2",
   "version": "2.7.15"
  }
 },
 "nbformat": 4,
 "nbformat_minor": 2
}
