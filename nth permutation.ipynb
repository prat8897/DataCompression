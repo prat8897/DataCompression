{
 "cells": [
  {
   "cell_type": "code",
   "execution_count": 37,
   "metadata": {},
   "outputs": [],
   "source": [
    "from math import factorial\n",
    "from itertools import count\n",
    "\n",
    "def to_factoradic(n):\n",
    "    \"\"\"Convert an integer to a factoradic number.\n",
    "    Args:\n",
    "        n: A non-negative integer to be converted.\n",
    "    Returns:\n",
    "        A sequence of integers where the factorial of each zero-based\n",
    "        index gives a place value, and the item at that index is the\n",
    "        coefficient by which the place value is to be multiplied. The\n",
    "        sum of the multiples of the factorial place values is equal to\n",
    "        the argument, n.  Since the coefficient at any index must be\n",
    "        less that or equal to the index, the coefficient at index 0\n",
    "        is always 0.\n",
    "    Raises:\n",
    "        ValueError: If n is negative.\n",
    "        ValueError: If n is not integral.\n",
    "        ValueError: If n is not finite.\n",
    "    \"\"\"\n",
    "    if n < 0:\n",
    "        raise ValueError(\"Negative number {} cannot be represented \"\n",
    "                         \"as a factoradic number\".format(n))\n",
    "\n",
    "    try:\n",
    "        v = int(n)\n",
    "    except OverflowError:\n",
    "        raise ValueError(\"Non-finite number {} cannot be represented \"\n",
    "                         \"as a factoradic number\".format(n))\n",
    "    else:\n",
    "        if v != n:\n",
    "            raise ValueError(\"Non-integral {} cannot be represented \"\n",
    "                             \"as a factoradic number\".format(n))\n",
    "\n",
    "    quotient = n\n",
    "    coefficients = []\n",
    "    for radix in count(start=1):\n",
    "        quotient, remainder = divmod(quotient, radix)\n",
    "        coefficients.append(remainder)\n",
    "        if quotient == 0:\n",
    "            break\n",
    "    #return coefficients[::-1]\n",
    "    return padzeroes(coefficients[::-1])\n",
    "\n",
    "def padzeroes(coefficients):\n",
    "    while len(coefficients) != 16:\n",
    "        coefficients.insert(0, 0)\n",
    "    return coefficients\n",
    "\n",
    "def from_factoradic(coefficients):\n",
    "    \"\"\"Convert a sequence of factoradic coefficients to an integer.\n",
    "    Args:\n",
    "        coefficients: A sequence of integers where the factorial of\n",
    "            each zero-based index gives a place value, and the item\n",
    "            at that index is the coefficient by which the place value\n",
    "            is to be multiplied.\n",
    "    Returns:\n",
    "        The integer equivalent of the factoradic representation.\n",
    "    Raises:\n",
    "        ValueError: If coefficients does not contain at least\n",
    "            one element.\n",
    "        ValueError: If not all elements in coefficients are\n",
    "            less than or equal to their index values.\n",
    "    \"\"\"\n",
    "    if len(coefficients) < 1:\n",
    "        raise ValueError(\"coefficients {!r} does not contain at least one element\".format(coefficients))\n",
    "    if any(coefficient > index for index, coefficient in enumerate(coefficients)):\n",
    "        raise ValueError(\"Not all coefficients in {!r} are less than or \"\n",
    "                         \"equal to their index values.\".format(coefficients))\n",
    "    return sum(factorial(i)*v for i, v in enumerate(coefficients))\n"
   ]
  },
  {
   "cell_type": "code",
   "execution_count": 38,
   "metadata": {},
   "outputs": [
    {
     "data": {
      "text/plain": [
       "[0, 0, 0, 0, 0, 0, 0, 0, 0, 0, 0, 0, 0, 1, 0, 0]"
      ]
     },
     "execution_count": 38,
     "metadata": {},
     "output_type": "execute_result"
    }
   ],
   "source": [
    "to_factoradic(2)"
   ]
  },
  {
   "cell_type": "code",
   "execution_count": 39,
   "metadata": {},
   "outputs": [
    {
     "data": {
      "text/plain": [
       "20922789998970"
      ]
     },
     "execution_count": 39,
     "metadata": {},
     "output_type": "execute_result"
    }
   ],
   "source": [
    "from_factoradic([0, 0, 0, 3, 3, 0, 0, 6, 2, 0, 0, 0, 0, 0, 0, 0, 1])"
   ]
  },
  {
   "cell_type": "code",
   "execution_count": 70,
   "metadata": {},
   "outputs": [],
   "source": [
    "def nth(n):\n",
    "    origin = [0, 1, 2, 3, 4, 5, 6, 7, 8, 9, 10, 11, 12, 13, 14, 15]\n",
    "    new = []\n",
    "    og = origin[:]\n",
    "    f = to_factoradic(n)\n",
    "    #print(f)\n",
    "    for i in f:\n",
    "        #print(i, og)\n",
    "        new.append(og[i])\n",
    "        del og[i]\n",
    "        #print(new, og)\n",
    "        \n",
    "    og.extend(new)\n",
    "    return og"
   ]
  },
  {
   "cell_type": "code",
   "execution_count": 71,
   "metadata": {},
   "outputs": [
    {
     "data": {
      "text/plain": [
       "[0, 1, 5, 12, 10, 11, 2, 15, 13, 3, 7, 4, 9, 14, 6, 8]"
      ]
     },
     "execution_count": 71,
     "metadata": {},
     "output_type": "execute_result"
    }
   ],
   "source": [
    "nth(23297249056)"
   ]
  },
  {
   "cell_type": "code",
   "execution_count": 60,
   "metadata": {},
   "outputs": [],
   "source": [
    "def permutationth(rule_list):\n",
    "    origin = [0, 1, 2, 3, 4, 5, 6, 7, 8, 9, 10, 11, 12, 13, 14, 15]\n",
    "    c = 1\n",
    "    n = 0\n",
    "    for i in rule_list:\n",
    "        #print(n, i, len(rule_list) - c)\n",
    "        n += origin.index(i) * factorial(len(rule_list) - c)\n",
    "        origin.remove(i)\n",
    "        c += 1\n",
    "    \n",
    "    return n"
   ]
  },
  {
   "cell_type": "code",
   "execution_count": 68,
   "metadata": {},
   "outputs": [
    {
     "data": {
      "text/plain": [
       "23297249056"
      ]
     },
     "execution_count": 68,
     "metadata": {},
     "output_type": "execute_result"
    }
   ],
   "source": [
    "permutationth([0, 1, 5, 12, 10, 11, 2, 15, 13, 3, 7, 4, 9, 14, 6, 8])"
   ]
  },
  {
   "cell_type": "code",
   "execution_count": null,
   "metadata": {},
   "outputs": [],
   "source": []
  }
 ],
 "metadata": {
  "kernelspec": {
   "display_name": "Python 3",
   "language": "python",
   "name": "python3"
  },
  "language_info": {
   "codemirror_mode": {
    "name": "ipython",
    "version": 2
   },
   "file_extension": ".py",
   "mimetype": "text/x-python",
   "name": "python",
   "nbconvert_exporter": "python",
   "pygments_lexer": "ipython2",
   "version": "2.7.15"
  }
 },
 "nbformat": 4,
 "nbformat_minor": 2
}
